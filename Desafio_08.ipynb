{
  "nbformat": 4,
  "nbformat_minor": 0,
  "metadata": {
    "colab": {
      "name": "Desafio 08.ipynb",
      "provenance": [],
      "collapsed_sections": [],
      "mount_file_id": "1ZFpojjsiqiO0YkPGOgVR0r-K35PFBMZa",
      "authorship_tag": "ABX9TyM3y90nbChHOEQqETpaG3nA",
      "include_colab_link": true
    },
    "kernelspec": {
      "name": "python3",
      "display_name": "Python 3"
    },
    "language_info": {
      "name": "python"
    }
  },
  "cells": [
    {
      "cell_type": "markdown",
      "metadata": {
        "id": "view-in-github",
        "colab_type": "text"
      },
      "source": [
        "<a href=\"https://colab.research.google.com/github/mharcoshungria/python_challenges/blob/main/Desafio_08.ipynb\" target=\"_parent\"><img src=\"https://colab.research.google.com/assets/colab-badge.svg\" alt=\"Open In Colab\"/></a>"
      ]
    },
    {
      "cell_type": "markdown",
      "source": [
        "![](https://i.imgur.com/YX6UATs.png)"
      ],
      "metadata": {
        "id": "VYP_XnPU6QBQ"
      }
    },
    {
      "cell_type": "markdown",
      "source": [
        "### Desafio 08\n",
        "\n",
        "Escreva um script Python para encontrar as 10 palavras mais longas em um arquivo.\n",
        "\n",
        "O arquivo TXT está localizado na mesma pasta do projeto (texto.txt)."
      ],
      "metadata": {
        "id": "r1ZzNc5H6RR-"
      }
    },
    {
      "cell_type": "code",
      "execution_count": 3,
      "metadata": {
        "colab": {
          "base_uri": "https://localhost:8080/"
        },
        "id": "jmDsp-pu6Ltz",
        "outputId": "830c8162-984d-4ce1-8f2e-e052d3f36fba"
      },
      "outputs": [
        {
          "output_type": "stream",
          "name": "stdout",
          "text": [
            "comprehensive 13\n",
            "intermediate 12\n",
            "interpreted 11\n",
            "programming 11\n",
            "readability 11\n",
            "programmers 11\n",
            "philosophy 10\n",
            "emphasizes 10\n",
            "imperative 10\n",
            "functional 10\n"
          ]
        }
      ],
      "source": [
        "from operator import itemgetter\n",
        "with open('/content/drive/MyDrive/Colab Notebooks/texto.txt', 'r') as f:\n",
        "    dic = {}    \n",
        "    conteudo = f.read().replace('.', ' ').replace('-', ' ').replace(',', ' ').replace(')', ' ')\n",
        "    for palavra in conteudo.split():\n",
        "        dic[f'{palavra}'] = len(palavra)\n",
        "        ordem = sorted(dic.items(), key=itemgetter(1), reverse=True)\n",
        "    for k, v in enumerate(ordem):\n",
        "        if k < 10:\n",
        "            print(v[0], v[1])"
      ]
    }
  ]
}