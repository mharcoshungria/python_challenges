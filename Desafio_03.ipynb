{
  "nbformat": 4,
  "nbformat_minor": 0,
  "metadata": {
    "anaconda-cloud": {},
    "kernelspec": {
      "display_name": "Python 3",
      "language": "python",
      "name": "python3"
    },
    "language_info": {
      "codemirror_mode": {
        "name": "ipython",
        "version": 3
      },
      "file_extension": ".py",
      "mimetype": "text/x-python",
      "name": "python",
      "nbconvert_exporter": "python",
      "pygments_lexer": "ipython3",
      "version": "3.6.5"
    },
    "colab": {
      "name": "Desafio 03.ipynb",
      "provenance": [],
      "include_colab_link": true
    }
  },
  "cells": [
    {
      "cell_type": "markdown",
      "metadata": {
        "id": "view-in-github",
        "colab_type": "text"
      },
      "source": [
        "<a href=\"https://colab.research.google.com/github/mharcoshungria/python_challenges/blob/main/Desafio_03.ipynb\" target=\"_parent\"><img src=\"https://colab.research.google.com/assets/colab-badge.svg\" alt=\"Open In Colab\"/></a>"
      ]
    },
    {
      "cell_type": "markdown",
      "source": [
        "![](https://i.imgur.com/YX6UATs.png)"
      ],
      "metadata": {
        "id": "aAo5Zswm24za"
      }
    },
    {
      "cell_type": "markdown",
      "metadata": {
        "id": "9apVxxygf6JR"
      },
      "source": [
        "### Desafio 03\n",
        "\n",
        "Escreva uma função que receba uma lista e retorne uma nova lista ordenada e sem valores duplicados.\n"
      ]
    },
    {
      "cell_type": "code",
      "metadata": {
        "id": "ndTkQEUBf6JS"
      },
      "source": [
        "lista = [1,2,3,4,3,30,3,4,5,6,9,3,2,1,2,4,5,15,6,6,3,13,4,45,5]"
      ],
      "execution_count": 1,
      "outputs": []
    },
    {
      "cell_type": "code",
      "metadata": {
        "id": "wo2rA-NriFtO"
      },
      "source": [
        "def order_list(entrada):\n",
        "  lista_final = list(set(entrada))\n",
        "  lista_final.sort()\n",
        "  print(lista_final)"
      ],
      "execution_count": 2,
      "outputs": []
    },
    {
      "cell_type": "code",
      "metadata": {
        "id": "TyKqn2fU5_wr",
        "colab": {
          "base_uri": "https://localhost:8080/"
        },
        "outputId": "27a3f15e-9385-4841-a5db-dd5f4504bc71"
      },
      "source": [
        "order_list(lista)"
      ],
      "execution_count": 3,
      "outputs": [
        {
          "output_type": "stream",
          "name": "stdout",
          "text": [
            "[1, 2, 3, 4, 5, 6, 9, 13, 15, 30, 45]\n"
          ]
        }
      ]
    }
  ]
}