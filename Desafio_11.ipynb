{
  "nbformat": 4,
  "nbformat_minor": 0,
  "metadata": {
    "anaconda-cloud": {},
    "kernelspec": {
      "display_name": "Python 3",
      "language": "python",
      "name": "python3"
    },
    "language_info": {
      "codemirror_mode": {
        "name": "ipython",
        "version": 3
      },
      "file_extension": ".py",
      "mimetype": "text/x-python",
      "name": "python",
      "nbconvert_exporter": "python",
      "pygments_lexer": "ipython3",
      "version": "3.6.5"
    },
    "colab": {
      "name": "Desafio 11.ipynb",
      "provenance": [],
      "collapsed_sections": [],
      "include_colab_link": true
    }
  },
  "cells": [
    {
      "cell_type": "markdown",
      "metadata": {
        "id": "view-in-github",
        "colab_type": "text"
      },
      "source": [
        "<a href=\"https://colab.research.google.com/github/mharcoshungria/python_challenges/blob/main/Desafio_11.ipynb\" target=\"_parent\"><img src=\"https://colab.research.google.com/assets/colab-badge.svg\" alt=\"Open In Colab\"/></a>"
      ]
    },
    {
      "cell_type": "markdown",
      "source": [
        "![](https://i.imgur.com/YX6UATs.png)"
      ],
      "metadata": {
        "id": "JDeeVSQW7r0r"
      }
    },
    {
      "cell_type": "markdown",
      "metadata": {
        "id": "y1R0m4oWf6Jz"
      },
      "source": [
        "### Desafio 11\n",
        "\n",
        "Dados uma sequência com `n` números inteiros, determinar quantos números da sequência são pares e quantos são ímpares. Por exemplo, para a sequência\n",
        "\n",
        "`6   2   7  -5   8  -4`\n",
        "\n",
        "a sua função deve retornar o número 4 para o número de pares e 2 para o de ímpares. A saída deve ser um tupla contendo primeiramente o número de pares e em seguida o número de ímpares. Para o exemplo anterior, a saída seria `(4, 2)`."
      ]
    },
    {
      "cell_type": "code",
      "metadata": {
        "id": "pSIzX4zUf6Jz"
      },
      "source": [
        "def contar_pares_impares(entrada):\n",
        "    par = impar = 0\n",
        "    lista = []\n",
        "    for num in entrada:\n",
        "      if num % 2 == 0:\n",
        "        par += 1\n",
        "      else:\n",
        "        impar += 1\n",
        "    lista.append(par)\n",
        "    lista.append(impar)\n",
        "    return tuple(lista)"
      ],
      "execution_count": 2,
      "outputs": []
    },
    {
      "cell_type": "code",
      "metadata": {
        "id": "y_iM2tgF35t7"
      },
      "source": [
        "msg_erro = \"Saída da função para a entrada {} deveria ser {}\"\n",
        "\n",
        "entrada = [6, 2, 7, -5, 8, -4]\n",
        "saida_esperada = (4, 2)\n",
        "assert contar_pares_impares(entrada)==saida_esperada, msg_erro.format(entrada, saida_esperada)\n",
        "\n",
        "entrada = [-3, 2, 7, -5, 8, -4]\n",
        "saida_esperada = (3, 3)\n",
        "assert contar_pares_impares(entrada)==saida_esperada, msg_erro.format(entrada, saida_esperada)"
      ],
      "execution_count": 3,
      "outputs": []
    }
  ]
}