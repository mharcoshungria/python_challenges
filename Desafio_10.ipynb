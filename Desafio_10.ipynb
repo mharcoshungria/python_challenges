{
  "nbformat": 4,
  "nbformat_minor": 0,
  "metadata": {
    "anaconda-cloud": {},
    "kernelspec": {
      "display_name": "Python 3",
      "language": "python",
      "name": "python3"
    },
    "language_info": {
      "codemirror_mode": {
        "name": "ipython",
        "version": 3
      },
      "file_extension": ".py",
      "mimetype": "text/x-python",
      "name": "python",
      "nbconvert_exporter": "python",
      "pygments_lexer": "ipython3",
      "version": "3.6.5"
    },
    "colab": {
      "name": "Desafio 10.ipynb",
      "provenance": [],
      "collapsed_sections": [],
      "include_colab_link": true
    }
  },
  "cells": [
    {
      "cell_type": "markdown",
      "metadata": {
        "id": "view-in-github",
        "colab_type": "text"
      },
      "source": [
        "<a href=\"https://colab.research.google.com/github/mharcoshungria/python_challenges/blob/main/Desafio_10.ipynb\" target=\"_parent\"><img src=\"https://colab.research.google.com/assets/colab-badge.svg\" alt=\"Open In Colab\"/></a>"
      ]
    },
    {
      "cell_type": "markdown",
      "source": [
        "![](https://i.imgur.com/YX6UATs.png)"
      ],
      "metadata": {
        "id": "fxEGuju-5oik"
      }
    },
    {
      "cell_type": "markdown",
      "metadata": {
        "id": "a4-FLDRof6Jv"
      },
      "source": [
        "### Desafio 10\n",
        "\n",
        "Dada uma lista, divida-a em 3 partes iguais e reverta cada lista.\n",
        "\n",
        "Exemplo: \n",
        "\n",
        "sampleList = [11, 45, 8, 23, 14, 12, 78, 45, 89]\n",
        "\n",
        "Parte 1 [8, 45, 11]\n",
        "\n",
        "Parte 2 [12, 14, 23]\n",
        "\n",
        "Parte 3 [89, 45, 78]"
      ]
    },
    {
      "cell_type": "code",
      "metadata": {
        "id": "IJ70pUjnf6Jw",
        "colab": {
          "base_uri": "https://localhost:8080/"
        },
        "outputId": "8d8f2299-9358-4749-89a5-6ee7e8100fed"
      },
      "source": [
        "sampleList = [11, 45, 8, 23, 14, 12, 78, 45, 89]\n",
        "l1 = []\n",
        "l2 = []\n",
        "l3 = []\n",
        "qtde = len(sampleList) / 3\n",
        "if qtde.is_integer():\n",
        "  for elem in sampleList:\n",
        "      if len(l1) < qtde:\n",
        "          l1.append(elem)\n",
        "          parte_1 = reversed(l1)\n",
        "      elif len(l2) < qtde:\n",
        "          l2.append(elem)\n",
        "          parte_2 = reversed(l2)\n",
        "      else:\n",
        "          if len(l3) < qtde:\n",
        "              l3.append(elem)\n",
        "              parte_3 = reversed(l3)\n",
        "  print(f'Parte 1: {list(parte_1)}'\n",
        "        f'\\nParte 2: {list(parte_2)}'\n",
        "        f'\\nParte 3: {list(parte_3)}')\n",
        "else:\n",
        "  print('A respectiva lista não pode ser dividida em 3 partes iguais!')"
      ],
      "execution_count": 1,
      "outputs": [
        {
          "output_type": "stream",
          "name": "stdout",
          "text": [
            "Parte 1: [8, 45, 11]\n",
            "Parte 2: [12, 14, 23]\n",
            "Parte 3: [89, 45, 78]\n"
          ]
        }
      ]
    }
  ]
}